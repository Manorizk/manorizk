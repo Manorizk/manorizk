{
 "cells": [
  {
   "cell_type": "code",
   "execution_count": null,
   "id": "66351c3e-b208-49c1-9b3c-08733d79e6eb",
   "metadata": {},
   "outputs": [],
   "source": [
    "13 princple of clean code "
   ]
  },
  {
   "cell_type": "code",
   "execution_count": null,
   "id": "a84f3310-772b-4f2e-8e35-1f2046bbf9bb",
   "metadata": {},
   "outputs": [],
   "source": [
    "Keep it Simple: Write code that is simple and straightforward. Avoid unnecessary complexity."
   ]
  },
  {
   "cell_type": "code",
   "execution_count": null,
   "id": "c290b2d5-b6f9-44a6-bcd9-4ed4664c50a5",
   "metadata": {},
   "outputs": [],
   "source": [
    "Meaningful Names: Use descriptive and meaningful names for variables, functions, classes, etc. A good name should clearly communicate the purpose of the entity it represents."
   ]
  },
  {
   "cell_type": "code",
   "execution_count": null,
   "id": "c8f5c3ac-de5e-48fc-82f5-fea6bb60d7b5",
   "metadata": {},
   "outputs": [],
   "source": [
    "DRY (Don't Repeat Yourself): Avoid duplicating code. Instead, use abstraction and modularization to eliminate redundancy."
   ]
  },
  {
   "cell_type": "code",
   "execution_count": null,
   "id": "1995c9be-2ae0-487c-a990-2291e859a6b4",
   "metadata": {},
   "outputs": [],
   "source": [
    "Small Functions/Methods: Keep functions and methods small and focused on doing one thing well. They should ideally fit on a single screen and have a single responsibility."
   ]
  },
  {
   "cell_type": "code",
   "execution_count": null,
   "id": "a77f6bd8-c29e-4fce-acc1-51cfd9ac9335",
   "metadata": {},
   "outputs": [],
   "source": [
    "Single Responsibility Principle (SRP): Each class or module should have only one reason to change. It should have a single responsibility."
   ]
  },
  {
   "cell_type": "code",
   "execution_count": null,
   "id": "38a9acb5-b5bf-4360-a015-28cadd98b291",
   "metadata": {},
   "outputs": [],
   "source": [
    "Avoid Side Effects: Functions and methods should not have unexpected side effects. They should do what they say they do and not cause hidden changes in other parts of the system."
   ]
  },
  {
   "cell_type": "code",
   "execution_count": null,
   "id": "28e79005-2deb-4801-932d-415ead3c0918",
   "metadata": {},
   "outputs": [],
   "source": [
    "Command-Query Separation: Functions should either perform an action or return a value, but not both. This improves clarity and makes the code easier to understand.\n",
    "\n"
   ]
  },
  {
   "cell_type": "code",
   "execution_count": null,
   "id": "c18f8286-2f90-4bac-8f10-c346caee0122",
   "metadata": {},
   "outputs": [],
   "source": [
    "Open/Closed Principle (OCP): Software entities (classes, modules, functions, etc.) should be open for extension but closed for modification. This means you should be able to add new functionality without changing existing code."
   ]
  },
  {
   "cell_type": "code",
   "execution_count": null,
   "id": "1b55e596-fe16-4383-b5f9-6c6413b624e1",
   "metadata": {},
   "outputs": [],
   "source": [
    "Composition over Inheritance: Favor composition (building complex objects by combining simpler ones) over inheritance (creating subclasses). This leads to more flexible and maintainable code."
   ]
  },
  {
   "cell_type": "code",
   "execution_count": null,
   "id": "e1af4945-b728-4430-b9d9-3cfe5dad2837",
   "metadata": {},
   "outputs": [],
   "source": [
    "Strive for Clarity: Write code that is easy to read, understand, and maintain. Use meaningful comments, but strive to make the code self-explanatory.\n",
    "\n"
   ]
  },
  {
   "cell_type": "code",
   "execution_count": null,
   "id": "8778b7f4-3708-4f79-8d1e-e132430ae131",
   "metadata": {},
   "outputs": [],
   "source": [
    "Separation of Concerns: Split your code into distinct sections, with each section addressing a separate concern or responsibility. This improves readability and makes the code easier to maintain."
   ]
  },
  {
   "cell_type": "code",
   "execution_count": null,
   "id": "d1d60838-da09-4b83-a2e6-111286b80782",
   "metadata": {},
   "outputs": [],
   "source": [
    "Consistency: Follow consistent coding conventions and style throughout your codebase. Consistency makes it easier for developers to understand and work with the code."
   ]
  },
  {
   "cell_type": "code",
   "execution_count": null,
   "id": "514d6278-2f4e-4607-afdb-e00aafe31c5e",
   "metadata": {},
   "outputs": [],
   "source": [
    "Keep it Testable: Write code that is easy to test. This often involves breaking down complex logic into smaller, testable units and designing code with testing in mind from the beginning."
   ]
  },
  {
   "cell_type": "code",
   "execution_count": null,
   "id": "50413ac6-b76c-418b-a6ab-03158573f5a2",
   "metadata": {},
   "outputs": [],
   "source": []
  },
  {
   "cell_type": "code",
   "execution_count": null,
   "id": "9f32a397-6d65-4fa5-8dfb-2a4647b8297e",
   "metadata": {},
   "outputs": [],
   "source": []
  },
  {
   "cell_type": "code",
   "execution_count": null,
   "id": "5644d5cc-7c8c-4d67-9eea-20bb1de05439",
   "metadata": {},
   "outputs": [],
   "source": []
  },
  {
   "cell_type": "code",
   "execution_count": null,
   "id": "3736e81c-945f-44e0-848e-29a683894ac7",
   "metadata": {},
   "outputs": [],
   "source": []
  }
 ],
 "metadata": {
  "kernelspec": {
   "display_name": "Python 3 (ipykernel)",
   "language": "python",
   "name": "python3"
  },
  "language_info": {
   "codemirror_mode": {
    "name": "ipython",
    "version": 3
   },
   "file_extension": ".py",
   "mimetype": "text/x-python",
   "name": "python",
   "nbconvert_exporter": "python",
   "pygments_lexer": "ipython3",
   "version": "3.11.7"
  }
 },
 "nbformat": 4,
 "nbformat_minor": 5
}
